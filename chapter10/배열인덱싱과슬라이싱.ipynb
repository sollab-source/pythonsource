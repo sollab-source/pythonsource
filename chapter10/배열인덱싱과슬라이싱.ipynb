{
 "cells": [
  {
   "cell_type": "code",
   "execution_count": 1,
   "metadata": {},
   "outputs": [],
   "source": [
    "# 넘파이 모듈 import \n",
    "\n",
    "import numpy as np"
   ]
  },
  {
   "cell_type": "code",
   "execution_count": 5,
   "metadata": {},
   "outputs": [
    {
     "name": "stdout",
     "output_type": "stream",
     "text": [
      "3\n"
     ]
    }
   ],
   "source": [
    "# 0~9 까지의 ndarray 생성\n",
    "arr1 = np.arange(10)\n",
    "\n",
    "# 인덱싱이 3번인 데이터 추출\n",
    "# 인덱싱 0 부터 시작\n",
    "print(arr1[3])"
   ]
  },
  {
   "cell_type": "code",
   "execution_count": 7,
   "metadata": {},
   "outputs": [
    {
     "name": "stdout",
     "output_type": "stream",
     "text": [
      "[[0 1 2 3 4]\n",
      " [5 6 7 8 9]]\n",
      "7\n"
     ]
    }
   ],
   "source": [
    "# 0~9 까지의 ndarray 생성\n",
    "arr1 = np.arange(10).reshape(2,5)\n",
    "print(arr1)\n",
    "\n",
    "# 7 가져오기\n",
    "print(arr1[1,2])"
   ]
  },
  {
   "cell_type": "code",
   "execution_count": 9,
   "metadata": {},
   "outputs": [
    {
     "name": "stdout",
     "output_type": "stream",
     "text": [
      "18\n"
     ]
    }
   ],
   "source": [
    "arr3d = np.arange(24).reshape(2,3,4)\n",
    "# 18 조회\n",
    "print(arr3d[1,1,2])"
   ]
  },
  {
   "cell_type": "markdown",
   "metadata": {},
   "source": [
    "> #### 슬라이싱"
   ]
  },
  {
   "cell_type": "code",
   "execution_count": 10,
   "metadata": {},
   "outputs": [
    {
     "name": "stdout",
     "output_type": "stream",
     "text": [
      "[1 2 3]\n",
      "[6 7 8 9]\n",
      "[1 2 3 4 5 6 7 8 9]\n"
     ]
    }
   ],
   "source": [
    "arr1d = np.arange(start=1, stop=10)\n",
    "print(arr1d[:3])  # 0 ~ 2 인덱스 조회\n",
    "print(arr1d[5:])  # 5번 인덱스 부터 끝까지 조회\n",
    "print(arr1d[:])   # 전체 조회"
   ]
  },
  {
   "cell_type": "code",
   "execution_count": 20,
   "metadata": {},
   "outputs": [
    {
     "name": "stdout",
     "output_type": "stream",
     "text": [
      "[[1 2 3]\n",
      " [4 5 6]\n",
      " [7 8 9]]\n",
      "\n",
      "arr2d[0:2, 0:2] \n",
      " [[1 2]\n",
      " [4 5]]\n",
      "\n",
      "arr2d[1:3, 0:3] \n",
      " [[4 5 6]\n",
      " [7 8 9]]\n",
      "\n",
      "arr2d[1:3, :] \n",
      " [[4 5 6]\n",
      " [7 8 9]]\n",
      "\n",
      "arr2d[:, :] \n",
      " [[1 2 3]\n",
      " [4 5 6]\n",
      " [7 8 9]]\n",
      "\n",
      "arr2d[:2, 1:] \n",
      " [[2 3]\n",
      " [5 6]]\n",
      "\n",
      "arr2d[:2, 0] \n",
      " [1 4]\n"
     ]
    }
   ],
   "source": [
    "# 2차원 배열에서의 다양한 슬라이싱\n",
    "\n",
    "arr2d = arr1d.reshape(3,3)\n",
    "print(f\"{arr2d}\\n\")\n",
    "\n",
    "print(f\"arr2d[0:2, 0:2] \\n {arr2d[0:2, 0:2]}\\n\")\n",
    "print(f\"arr2d[1:3, 0:3] \\n {arr2d[1:3, 0:3]}\\n\")\n",
    "print(f\"arr2d[1:3, :] \\n {arr2d[1:3, :]}\\n\")\n",
    "print(f\"arr2d[:, :] \\n {arr2d[:, :]}\\n\")\n",
    "print(f\"arr2d[:2, 1:] \\n {arr2d[:2, 1:]}\\n\")\n",
    "print(f\"arr2d[:2, 0] \\n {arr2d[:2, 0]}\")"
   ]
  },
  {
   "cell_type": "markdown",
   "metadata": {},
   "source": [
    "> #### 팬시 인덱싱"
   ]
  },
  {
   "cell_type": "code",
   "execution_count": 25,
   "metadata": {},
   "outputs": [
    {
     "name": "stdout",
     "output_type": "stream",
     "text": [
      "arr2d[[0,1], 2] : [3, 6]\n",
      "\n",
      "arr2d[[0,1], 0:2] : [[1, 2], [4, 5]]\n",
      "\n",
      "arr2d[[0,1]] : [[1, 2, 3], [4, 5, 6]]\n",
      "\n"
     ]
    }
   ],
   "source": [
    "arr1d = np.arange(start=1, stop=10)\n",
    "arr2d = arr1d.reshape(3,3)\n",
    "\n",
    "# (0,2),(1,2) 를 의미\n",
    "arr3 = arr2d[[0,1], 2]\n",
    "print(f\"arr2d[[0,1], 2] : {arr3.tolist()}\\n\")\n",
    "\n",
    "# (0,0),(0,1)\n",
    "# (1,0),(1,1)\n",
    "arr4 = arr2d[[0,1], 0:2]\n",
    "print(f\"arr2d[[0,1], 0:2] : {arr4.tolist()}\\n\")\n",
    "\n",
    "# (0,0),(0,1), (0,2)\n",
    "# (1,0),(1,1), (1,2)\n",
    "arr5 = arr2d[[0,1]]\n",
    "print(f\"arr2d[[0,1]] : {arr5.tolist()}\\n\")"
   ]
  },
  {
   "cell_type": "markdown",
   "metadata": {},
   "source": [
    "#### 불린 인덱싱"
   ]
  },
  {
   "cell_type": "code",
   "execution_count": 26,
   "metadata": {},
   "outputs": [
    {
     "name": "stdout",
     "output_type": "stream",
     "text": [
      "[[ 0  1  2  3]\n",
      " [ 4  5  6  7]\n",
      " [ 8  9 10 11]]\n"
     ]
    },
    {
     "data": {
      "text/plain": [
       "array([ 6,  7,  8,  9, 10, 11])"
      ]
     },
     "execution_count": 26,
     "metadata": {},
     "output_type": "execute_result"
    }
   ],
   "source": [
    "arr2d = np.arange(12).reshape(3,4)\n",
    "print(arr2d)\n",
    "\n",
    "# 5보다 큰 요소 반환\n",
    "arr2d[arr2d > 5]"
   ]
  },
  {
   "cell_type": "code",
   "execution_count": 27,
   "metadata": {},
   "outputs": [
    {
     "name": "stdout",
     "output_type": "stream",
     "text": [
      "[[[ 0  1  2  3]\n",
      "  [ 4  5  6  7]\n",
      "  [ 8  9 10 11]]\n",
      "\n",
      " [[12 13 14 15]\n",
      "  [16 17 18 19]\n",
      "  [20 21 22 23]]]\n"
     ]
    },
    {
     "data": {
      "text/plain": [
       "array([[ 0,  1,  2,  3],\n",
       "       [ 8,  9, 10, 11],\n",
       "       [16, 17, 18, 19]])"
      ]
     },
     "execution_count": 27,
     "metadata": {},
     "output_type": "execute_result"
    }
   ],
   "source": [
    "# 2차원 불리언 배열로 3차원 배열 인덱싱\n",
    "\n",
    "arr3d = np.arange(24).reshape(2,3,4)\n",
    "print(arr3d)\n",
    "\n",
    "condition = [[True, False, True], [False, True, False]]\n",
    "\n",
    "arr3d[condition]"
   ]
  },
  {
   "cell_type": "code",
   "execution_count": null,
   "metadata": {},
   "outputs": [],
   "source": []
  }
 ],
 "metadata": {
  "kernelspec": {
   "display_name": "venv",
   "language": "python",
   "name": "python3"
  },
  "language_info": {
   "codemirror_mode": {
    "name": "ipython",
    "version": 3
   },
   "file_extension": ".py",
   "mimetype": "text/x-python",
   "name": "python",
   "nbconvert_exporter": "python",
   "pygments_lexer": "ipython3",
   "version": "3.12.3"
  }
 },
 "nbformat": 4,
 "nbformat_minor": 2
}
