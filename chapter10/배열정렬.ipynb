{
 "cells": [
  {
   "cell_type": "code",
   "execution_count": 1,
   "metadata": {},
   "outputs": [],
   "source": [
    "# 넘파이 모듈 import \n",
    "\n",
    "import numpy as np"
   ]
  },
  {
   "cell_type": "code",
   "execution_count": 16,
   "metadata": {},
   "outputs": [
    {
     "name": "stdout",
     "output_type": "stream",
     "text": [
      "원본 : [3 1 9 5 2]\n",
      "sort() 호출 후 원본 : [3 1 9 5 2]\n",
      "정렬본 : [1 2 3 5 9]\n"
     ]
    }
   ],
   "source": [
    "origin_arr = np.array([3,1,9,5,2])\n",
    "print(f\"원본 : {origin_arr}\")\n",
    "# np.sort() : 원 배열은 그대로, 변환하여 반환\n",
    "sorted = np.sort(origin_arr)\n",
    "print(f\"sort() 호출 후 원본 : {origin_arr}\")\n",
    "print(f\"정렬본 : {sorted}\")"
   ]
  },
  {
   "cell_type": "code",
   "execution_count": 18,
   "metadata": {},
   "outputs": [
    {
     "name": "stdout",
     "output_type": "stream",
     "text": [
      "원본 : [3 1 9 5 2]\n",
      "sort() 호출 후 원본 : [1 2 3 5 9]\n",
      "정렬본 : None\n"
     ]
    }
   ],
   "source": [
    "origin_arr = np.array([3,1,9,5,2])\n",
    "print(f\"원본 : {origin_arr}\")\n",
    "# ndarray.sort() : 원 배열을 변환하여 반환\n",
    "sorted = origin_arr.sort()\n",
    "print(f\"sort() 호출 후 원본 : {origin_arr}\")\n",
    "print(f\"정렬본 : {sorted}\")"
   ]
  },
  {
   "cell_type": "code",
   "execution_count": 19,
   "metadata": {},
   "outputs": [
    {
     "name": "stdout",
     "output_type": "stream",
     "text": [
      "정렬본 : [9 5 3 2 1]\n"
     ]
    }
   ],
   "source": [
    "# 내림차순\n",
    "\n",
    "origin_arr = np.array([3,1,9,5,2])\n",
    "sorted = np.sort(origin_arr)[::-1]\n",
    "print(f\"정렬본 : {sorted}\")"
   ]
  },
  {
   "cell_type": "code",
   "execution_count": 31,
   "metadata": {},
   "outputs": [
    {
     "name": "stdout",
     "output_type": "stream",
     "text": [
      "원본\n",
      " [[1 4]\n",
      " [3 1]]\n",
      "\n",
      "마지막 축 기준 \n",
      " [[1 4]\n",
      " [1 3]]\n",
      "\n",
      "배열 해제 후 sort \n",
      " [1 1 3 4]\n",
      "\n",
      "행 기준 sort \n",
      " [[1 1]\n",
      " [3 4]]\n",
      "\n",
      "열 기준 sort \n",
      " [[1 4]\n",
      " [1 3]]\n",
      "\n"
     ]
    }
   ],
   "source": [
    "arr = np.array([[1,4],[3,1]])\n",
    "print(f\"원본\\n {arr}\\n\")\n",
    "\n",
    "# 축을 지정하지 않으면 -1 : 마지막 축 기준\n",
    "print(f\"마지막 축 기준 \\n {np.sort(arr)}\\n\")  \n",
    "\n",
    "# None : 배열을 해제 후 [1,4,3,1] 후 sort 함\n",
    "print(f\"배열 해제 후 sort \\n {np.sort(arr, axis=None)}\\n\")  \n",
    "\n",
    "print(f\"행 기준 sort \\n {np.sort(arr, axis=0)}\\n\")\n",
    "print(f\"열 기준 sort \\n {np.sort(arr, axis=1)}\\n\")"
   ]
  },
  {
   "cell_type": "code",
   "execution_count": null,
   "metadata": {},
   "outputs": [],
   "source": []
  },
  {
   "cell_type": "code",
   "execution_count": 33,
   "metadata": {},
   "outputs": [
    {
     "name": "stdout",
     "output_type": "stream",
     "text": [
      "원본 : [3 1 9 5 2]\n",
      "sort() 호출 후 원본 : [3 1 9 5 2]\n",
      "정렬 전 인덱스 : [1 4 0 3 2]\n"
     ]
    }
   ],
   "source": [
    "origin_arr = np.array([3,1,9,5,2])\n",
    "print(f\"원본 : {origin_arr}\")\n",
    "origin_idx = np.argsort(origin_arr)\n",
    "print(f\"sort() 호출 후 원본 : {origin_arr}\")\n",
    "print(f\"정렬 전 인덱스 : {origin_idx}\")"
   ]
  },
  {
   "cell_type": "code",
   "execution_count": 36,
   "metadata": {},
   "outputs": [
    {
     "name": "stdout",
     "output_type": "stream",
     "text": [
      "성적 오름차순 정렬 후 이름 출력 ['John' 'Sarah' 'Samuel' 'Mike' 'Kate']\n",
      "성적 내림차순 정렬 후 이름 출력 ['Kate' 'Mike' 'Samuel' 'Sarah' 'John']\n"
     ]
    }
   ],
   "source": [
    "# 시험 성적 순으로 학생 이름 출력\n",
    "\n",
    "name_arr = np.array([\"John\",\"Mike\",\"Sarah\",\"Kate\",\"Samuel\"])\n",
    "score_arr = np.array([76,93,82,97,86])\n",
    "\n",
    "idx_asc = np.argsort(score_arr)\n",
    "print(f\"성적 오름차순 정렬 후 이름 출력 {name_arr[idx_asc]}\")\n",
    "\n",
    "idx_desc = np.argsort(score_arr)[::-1]\n",
    "print(f\"성적 내림차순 정렬 후 이름 출력 {name_arr[idx_desc]}\")"
   ]
  },
  {
   "cell_type": "code",
   "execution_count": null,
   "metadata": {},
   "outputs": [],
   "source": []
  }
 ],
 "metadata": {
  "kernelspec": {
   "display_name": "venv",
   "language": "python",
   "name": "python3"
  },
  "language_info": {
   "codemirror_mode": {
    "name": "ipython",
    "version": 3
   },
   "file_extension": ".py",
   "mimetype": "text/x-python",
   "name": "python",
   "nbconvert_exporter": "python",
   "pygments_lexer": "ipython3",
   "version": "3.12.3"
  }
 },
 "nbformat": 4,
 "nbformat_minor": 2
}
