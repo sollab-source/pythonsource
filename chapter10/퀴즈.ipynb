{
 "cells": [
  {
   "cell_type": "code",
   "execution_count": 22,
   "metadata": {},
   "outputs": [],
   "source": [
    "import numpy as np"
   ]
  },
  {
   "cell_type": "code",
   "execution_count": 23,
   "metadata": {},
   "outputs": [
    {
     "data": {
      "text/plain": [
       "array([100,  75,  95,  36,  85,  45,  55,  78,  43,  59])"
      ]
     },
     "execution_count": 23,
     "metadata": {},
     "output_type": "execute_result"
    }
   ],
   "source": [
    "# Quiz1) 다음 리스트를 이용해 ndarray를 생성하시오.\n",
    "\n",
    "list1 = [100,75,95,36,85,45,55,78,43,59]\n",
    "arr1 = np.array(list1)\n",
    "arr1"
   ]
  },
  {
   "cell_type": "code",
   "execution_count": 24,
   "metadata": {},
   "outputs": [
    {
     "data": {
      "text/plain": [
       "array([ 70,  73,  77,  81,  85,  88,  92,  96, 100])"
      ]
     },
     "execution_count": 24,
     "metadata": {},
     "output_type": "execute_result"
    }
   ],
   "source": [
    "# Quiz2) 70~100 사이의 수를 이용해 ndarray를 생성하시오.\n",
    "# 종료 값은 포함하고, 9개의 숫자를 int 타입으로 생성하시오\n",
    "\n",
    "arr2 = np.linspace(70, 100, 9, dtype=int)\n",
    "arr2"
   ]
  },
  {
   "cell_type": "code",
   "execution_count": 25,
   "metadata": {},
   "outputs": [
    {
     "data": {
      "text/plain": [
       "array([[[ 0,  1,  2],\n",
       "        [ 3,  4,  5],\n",
       "        [ 6,  7,  8],\n",
       "        [ 9, 10, 11],\n",
       "        [12, 13, 14]],\n",
       "\n",
       "       [[15, 16, 17],\n",
       "        [18, 19, 20],\n",
       "        [21, 22, 23],\n",
       "        [24, 25, 26],\n",
       "        [27, 28, 29]]])"
      ]
     },
     "execution_count": 25,
     "metadata": {},
     "output_type": "execute_result"
    }
   ],
   "source": [
    "# # Quiz3) 0~30까지의 수를 이용해 3차원 배열을 생성하시오. (2면 5행 3열)\n",
    "arr3 = np.arange(30).reshape(2,5,3)\n",
    "arr3"
   ]
  },
  {
   "cell_type": "code",
   "execution_count": 33,
   "metadata": {},
   "outputs": [
    {
     "data": {
      "text/plain": [
       "array([[ 70,  73,  77],\n",
       "       [ 81,  85,  88],\n",
       "       [ 92,  96, 100]])"
      ]
     },
     "execution_count": 33,
     "metadata": {},
     "output_type": "execute_result"
    }
   ],
   "source": [
    "# Quiz4) Quiz2번에서 생성한 배열을 2차원 형태로 변경하시오(3행 3열)\n",
    "\n",
    "# arr2.reshape(3,-1)\n",
    "arr2_reshape = arr2.reshape(3,3)\n",
    "arr2_reshape"
   ]
  },
  {
   "cell_type": "code",
   "execution_count": 27,
   "metadata": {},
   "outputs": [
    {
     "name": "stdout",
     "output_type": "stream",
     "text": [
      "[ 36  43  45  55  59  75  78  85  95 100]\n",
      "[100  95  85  78  75  59  55  45  43  36]\n"
     ]
    }
   ],
   "source": [
    "# Quiz5) Quiz1번에서 생성한 배열을 오름차순 및 내림차순으로 정렬하시오.(원본은 변경하지 않음)\n",
    "\n",
    "# 오름차순\n",
    "print(np.sort(arr1))\n",
    "\n",
    "# 내림차순\n",
    "print(np.sort(arr1)[::-1])"
   ]
  },
  {
   "cell_type": "code",
   "execution_count": 34,
   "metadata": {},
   "outputs": [
    {
     "data": {
      "text/plain": [
       "array([[ 92,  96, 100],\n",
       "       [ 81,  85,  88],\n",
       "       [ 70,  73,  77]])"
      ]
     },
     "execution_count": 34,
     "metadata": {},
     "output_type": "execute_result"
    }
   ],
   "source": [
    "# Quiz6) Quiz4번에서 변경한 2차원 배열을 행기준으로 내림차순 정렬하시오\n",
    "\n",
    "np.sort(arr2_reshape, axis=0)[::-1]"
   ]
  },
  {
   "cell_type": "code",
   "execution_count": 16,
   "metadata": {},
   "outputs": [
    {
     "data": {
      "text/plain": [
       "array([100,  75,  95,  85,  78])"
      ]
     },
     "execution_count": 16,
     "metadata": {},
     "output_type": "execute_result"
    }
   ],
   "source": [
    "# Quiz7) Quiz1번에서 생성한 배열에서 60 점 이상의 배열을 추출하시오.\n",
    "\n",
    "arr1[arr1 >= 60]"
   ]
  },
  {
   "cell_type": "code",
   "execution_count": 36,
   "metadata": {},
   "outputs": [
    {
     "name": "stdout",
     "output_type": "stream",
     "text": [
      "671\n"
     ]
    }
   ],
   "source": [
    "# Quiz8) Quiz1에서 생성한 배열의 합을 구하시외\n",
    "\n",
    "print(np.sum(arr1))"
   ]
  },
  {
   "cell_type": "code",
   "execution_count": null,
   "metadata": {},
   "outputs": [],
   "source": []
  }
 ],
 "metadata": {
  "kernelspec": {
   "display_name": "venv",
   "language": "python",
   "name": "python3"
  },
  "language_info": {
   "codemirror_mode": {
    "name": "ipython",
    "version": 3
   },
   "file_extension": ".py",
   "mimetype": "text/x-python",
   "name": "python",
   "nbconvert_exporter": "python",
   "pygments_lexer": "ipython3",
   "version": "3.12.3"
  }
 },
 "nbformat": 4,
 "nbformat_minor": 2
}
